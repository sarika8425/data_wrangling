{
 "cells": [
  {
   "cell_type": "code",
   "execution_count": 2,
   "metadata": {
    "collapsed": true
   },
   "outputs": [],
   "source": [
    "import pandas as pd"
   ]
  },
  {
   "cell_type": "code",
   "execution_count": 3,
   "metadata": {
    "collapsed": false
   },
   "outputs": [],
   "source": [
    "import json\n",
    "from pandas.io.json import json_normalize"
   ]
  },
  {
   "cell_type": "code",
   "execution_count": null,
   "metadata": {
    "collapsed": true
   },
   "outputs": [],
   "source": []
  },
  {
   "cell_type": "code",
   "execution_count": 4,
   "metadata": {
    "collapsed": false
   },
   "outputs": [
    {
     "data": {
      "text/html": [
       "<div>\n",
       "<table border=\"1\" class=\"dataframe\">\n",
       "  <thead>\n",
       "    <tr style=\"text-align: right;\">\n",
       "      <th></th>\n",
       "      <th>_id</th>\n",
       "      <th>approvalfy</th>\n",
       "      <th>board_approval_month</th>\n",
       "      <th>boardapprovaldate</th>\n",
       "      <th>borrower</th>\n",
       "      <th>closingdate</th>\n",
       "      <th>country_namecode</th>\n",
       "      <th>countrycode</th>\n",
       "      <th>countryname</th>\n",
       "      <th>countryshortname</th>\n",
       "      <th>...</th>\n",
       "      <th>sectorcode</th>\n",
       "      <th>source</th>\n",
       "      <th>status</th>\n",
       "      <th>supplementprojectflg</th>\n",
       "      <th>theme1</th>\n",
       "      <th>theme_namecode</th>\n",
       "      <th>themecode</th>\n",
       "      <th>totalamt</th>\n",
       "      <th>totalcommamt</th>\n",
       "      <th>url</th>\n",
       "    </tr>\n",
       "  </thead>\n",
       "  <tbody>\n",
       "    <tr>\n",
       "      <th>0</th>\n",
       "      <td>{u'$oid': u'52b213b38594d8a2be17c780'}</td>\n",
       "      <td>1999</td>\n",
       "      <td>November</td>\n",
       "      <td>2013-11-12T00:00:00Z</td>\n",
       "      <td>FEDERAL DEMOCRATIC REPUBLIC OF ETHIOPIA</td>\n",
       "      <td>2018-07-07T00:00:00Z</td>\n",
       "      <td>Federal Democratic Republic of Ethiopia!$!ET</td>\n",
       "      <td>ET</td>\n",
       "      <td>Federal Democratic Republic of Ethiopia</td>\n",
       "      <td>Ethiopia</td>\n",
       "      <td>...</td>\n",
       "      <td>ET,BS,ES,EP</td>\n",
       "      <td>IBRD</td>\n",
       "      <td>Active</td>\n",
       "      <td>N</td>\n",
       "      <td>{u'Percent': 100, u'Name': u'Education for all'}</td>\n",
       "      <td>[{u'code': u'65', u'name': u'Education for all'}]</td>\n",
       "      <td>65</td>\n",
       "      <td>130000000</td>\n",
       "      <td>130000000</td>\n",
       "      <td>http://www.worldbank.org/projects/P129828/ethi...</td>\n",
       "    </tr>\n",
       "    <tr>\n",
       "      <th>1</th>\n",
       "      <td>{u'$oid': u'52b213b38594d8a2be17c781'}</td>\n",
       "      <td>2015</td>\n",
       "      <td>November</td>\n",
       "      <td>2013-11-04T00:00:00Z</td>\n",
       "      <td>GOVERNMENT OF TUNISIA</td>\n",
       "      <td>NaN</td>\n",
       "      <td>Republic of Tunisia!$!TN</td>\n",
       "      <td>TN</td>\n",
       "      <td>Republic of Tunisia</td>\n",
       "      <td>Tunisia</td>\n",
       "      <td>...</td>\n",
       "      <td>BZ,BS</td>\n",
       "      <td>IBRD</td>\n",
       "      <td>Active</td>\n",
       "      <td>N</td>\n",
       "      <td>{u'Percent': 30, u'Name': u'Other economic man...</td>\n",
       "      <td>[{u'code': u'24', u'name': u'Other economic ma...</td>\n",
       "      <td>54,24</td>\n",
       "      <td>0</td>\n",
       "      <td>4700000</td>\n",
       "      <td>http://www.worldbank.org/projects/P144674?lang=en</td>\n",
       "    </tr>\n",
       "    <tr>\n",
       "      <th>2</th>\n",
       "      <td>{u'$oid': u'52b213b38594d8a2be17c782'}</td>\n",
       "      <td>2014</td>\n",
       "      <td>November</td>\n",
       "      <td>2013-11-01T00:00:00Z</td>\n",
       "      <td>MINISTRY OF FINANCE AND ECONOMIC DEVEL</td>\n",
       "      <td>NaN</td>\n",
       "      <td>Tuvalu!$!TV</td>\n",
       "      <td>TV</td>\n",
       "      <td>Tuvalu</td>\n",
       "      <td>Tuvalu</td>\n",
       "      <td>...</td>\n",
       "      <td>TI</td>\n",
       "      <td>IBRD</td>\n",
       "      <td>Active</td>\n",
       "      <td>Y</td>\n",
       "      <td>{u'Percent': 46, u'Name': u'Regional integrati...</td>\n",
       "      <td>[{u'code': u'47', u'name': u'Regional integrat...</td>\n",
       "      <td>52,81,25,47</td>\n",
       "      <td>6060000</td>\n",
       "      <td>6060000</td>\n",
       "      <td>http://www.worldbank.org/projects/P145310?lang=en</td>\n",
       "    </tr>\n",
       "    <tr>\n",
       "      <th>3</th>\n",
       "      <td>{u'$oid': u'52b213b38594d8a2be17c783'}</td>\n",
       "      <td>2014</td>\n",
       "      <td>October</td>\n",
       "      <td>2013-10-31T00:00:00Z</td>\n",
       "      <td>MIN. OF PLANNING AND INT'L COOPERATION</td>\n",
       "      <td>NaN</td>\n",
       "      <td>Republic of Yemen!$!RY</td>\n",
       "      <td>RY</td>\n",
       "      <td>Republic of Yemen</td>\n",
       "      <td>Yemen, Republic of</td>\n",
       "      <td>...</td>\n",
       "      <td>JB</td>\n",
       "      <td>IBRD</td>\n",
       "      <td>Active</td>\n",
       "      <td>N</td>\n",
       "      <td>{u'Percent': 50, u'Name': u'Participation and ...</td>\n",
       "      <td>[{u'code': u'57', u'name': u'Participation and...</td>\n",
       "      <td>59,57</td>\n",
       "      <td>0</td>\n",
       "      <td>1500000</td>\n",
       "      <td>http://www.worldbank.org/projects/P144665?lang=en</td>\n",
       "    </tr>\n",
       "    <tr>\n",
       "      <th>4</th>\n",
       "      <td>{u'$oid': u'52b213b38594d8a2be17c784'}</td>\n",
       "      <td>2014</td>\n",
       "      <td>October</td>\n",
       "      <td>2013-10-31T00:00:00Z</td>\n",
       "      <td>MINISTRY OF FINANCE</td>\n",
       "      <td>2019-04-30T00:00:00Z</td>\n",
       "      <td>Kingdom of Lesotho!$!LS</td>\n",
       "      <td>LS</td>\n",
       "      <td>Kingdom of Lesotho</td>\n",
       "      <td>Lesotho</td>\n",
       "      <td>...</td>\n",
       "      <td>FH,YW,YZ</td>\n",
       "      <td>IBRD</td>\n",
       "      <td>Active</td>\n",
       "      <td>N</td>\n",
       "      <td>{u'Percent': 30, u'Name': u'Export development...</td>\n",
       "      <td>[{u'code': u'45', u'name': u'Export developmen...</td>\n",
       "      <td>41,45</td>\n",
       "      <td>13100000</td>\n",
       "      <td>13100000</td>\n",
       "      <td>http://www.worldbank.org/projects/P144933/seco...</td>\n",
       "    </tr>\n",
       "  </tbody>\n",
       "</table>\n",
       "<p>5 rows × 50 columns</p>\n",
       "</div>"
      ],
      "text/plain": [
       "                                      _id  approvalfy board_approval_month  \\\n",
       "0  {u'$oid': u'52b213b38594d8a2be17c780'}        1999             November   \n",
       "1  {u'$oid': u'52b213b38594d8a2be17c781'}        2015             November   \n",
       "2  {u'$oid': u'52b213b38594d8a2be17c782'}        2014             November   \n",
       "3  {u'$oid': u'52b213b38594d8a2be17c783'}        2014              October   \n",
       "4  {u'$oid': u'52b213b38594d8a2be17c784'}        2014              October   \n",
       "\n",
       "      boardapprovaldate                                 borrower  \\\n",
       "0  2013-11-12T00:00:00Z  FEDERAL DEMOCRATIC REPUBLIC OF ETHIOPIA   \n",
       "1  2013-11-04T00:00:00Z                    GOVERNMENT OF TUNISIA   \n",
       "2  2013-11-01T00:00:00Z   MINISTRY OF FINANCE AND ECONOMIC DEVEL   \n",
       "3  2013-10-31T00:00:00Z   MIN. OF PLANNING AND INT'L COOPERATION   \n",
       "4  2013-10-31T00:00:00Z                      MINISTRY OF FINANCE   \n",
       "\n",
       "            closingdate                              country_namecode  \\\n",
       "0  2018-07-07T00:00:00Z  Federal Democratic Republic of Ethiopia!$!ET   \n",
       "1                   NaN                      Republic of Tunisia!$!TN   \n",
       "2                   NaN                                   Tuvalu!$!TV   \n",
       "3                   NaN                        Republic of Yemen!$!RY   \n",
       "4  2019-04-30T00:00:00Z                       Kingdom of Lesotho!$!LS   \n",
       "\n",
       "  countrycode                              countryname    countryshortname  \\\n",
       "0          ET  Federal Democratic Republic of Ethiopia            Ethiopia   \n",
       "1          TN                      Republic of Tunisia             Tunisia   \n",
       "2          TV                                   Tuvalu              Tuvalu   \n",
       "3          RY                        Republic of Yemen  Yemen, Republic of   \n",
       "4          LS                       Kingdom of Lesotho             Lesotho   \n",
       "\n",
       "                         ...                           sectorcode source  \\\n",
       "0                        ...                          ET,BS,ES,EP   IBRD   \n",
       "1                        ...                                BZ,BS   IBRD   \n",
       "2                        ...                                   TI   IBRD   \n",
       "3                        ...                                   JB   IBRD   \n",
       "4                        ...                             FH,YW,YZ   IBRD   \n",
       "\n",
       "   status  supplementprojectflg  \\\n",
       "0  Active                     N   \n",
       "1  Active                     N   \n",
       "2  Active                     Y   \n",
       "3  Active                     N   \n",
       "4  Active                     N   \n",
       "\n",
       "                                              theme1  \\\n",
       "0   {u'Percent': 100, u'Name': u'Education for all'}   \n",
       "1  {u'Percent': 30, u'Name': u'Other economic man...   \n",
       "2  {u'Percent': 46, u'Name': u'Regional integrati...   \n",
       "3  {u'Percent': 50, u'Name': u'Participation and ...   \n",
       "4  {u'Percent': 30, u'Name': u'Export development...   \n",
       "\n",
       "                                      theme_namecode    themecode   totalamt  \\\n",
       "0  [{u'code': u'65', u'name': u'Education for all'}]           65  130000000   \n",
       "1  [{u'code': u'24', u'name': u'Other economic ma...        54,24          0   \n",
       "2  [{u'code': u'47', u'name': u'Regional integrat...  52,81,25,47    6060000   \n",
       "3  [{u'code': u'57', u'name': u'Participation and...        59,57          0   \n",
       "4  [{u'code': u'45', u'name': u'Export developmen...        41,45   13100000   \n",
       "\n",
       "  totalcommamt                                                url  \n",
       "0    130000000  http://www.worldbank.org/projects/P129828/ethi...  \n",
       "1      4700000  http://www.worldbank.org/projects/P144674?lang=en  \n",
       "2      6060000  http://www.worldbank.org/projects/P145310?lang=en  \n",
       "3      1500000  http://www.worldbank.org/projects/P144665?lang=en  \n",
       "4     13100000  http://www.worldbank.org/projects/P144933/seco...  \n",
       "\n",
       "[5 rows x 50 columns]"
      ]
     },
     "execution_count": 4,
     "metadata": {},
     "output_type": "execute_result"
    }
   ],
   "source": [
    "wbpj=pd.read_json('world_bank_projects.json')\n",
    "wbpj.head()"
   ]
  },
  {
   "cell_type": "code",
   "execution_count": 15,
   "metadata": {
    "collapsed": false
   },
   "outputs": [
    {
     "data": {
      "text/plain": [
       "Index([                     u'_id',               u'approvalfy',\n",
       "           u'board_approval_month',        u'boardapprovaldate',\n",
       "                       u'borrower',              u'closingdate',\n",
       "               u'country_namecode',              u'countrycode',\n",
       "                    u'countryname',         u'countryshortname',\n",
       "                          u'docty', u'envassesmentcategorycode',\n",
       "                       u'grantamt',              u'ibrdcommamt',\n",
       "                             u'id',               u'idacommamt',\n",
       "                      u'impagency',             u'lendinginstr',\n",
       "               u'lendinginstrtype',          u'lendprojectcost',\n",
       "            u'majorsector_percent',        u'mjsector_namecode',\n",
       "                        u'mjtheme',         u'mjtheme_namecode',\n",
       "                    u'mjthemecode',                 u'prodline',\n",
       "                   u'prodlinetext',          u'productlinetype',\n",
       "               u'project_abstract',             u'project_name',\n",
       "                    u'projectdocs',     u'projectfinancialtype',\n",
       "           u'projectstatusdisplay',               u'regionname',\n",
       "                         u'sector',                  u'sector1',\n",
       "                        u'sector2',                  u'sector3',\n",
       "                        u'sector4',          u'sector_namecode',\n",
       "                     u'sectorcode',                   u'source',\n",
       "                         u'status',     u'supplementprojectflg',\n",
       "                         u'theme1',           u'theme_namecode',\n",
       "                      u'themecode',                 u'totalamt',\n",
       "                   u'totalcommamt',                      u'url'],\n",
       "      dtype='object')"
      ]
     },
     "execution_count": 15,
     "metadata": {},
     "output_type": "execute_result"
    }
   ],
   "source": [
    "wbpj.columns"
   ]
  },
  {
   "cell_type": "code",
   "execution_count": 53,
   "metadata": {
    "collapsed": false
   },
   "outputs": [
    {
     "data": {
      "text/html": [
       "<div>\n",
       "<table border=\"1\" class=\"dataframe\">\n",
       "  <thead>\n",
       "    <tr style=\"text-align: right;\">\n",
       "      <th></th>\n",
       "      <th>_id</th>\n",
       "      <th>approvalfy</th>\n",
       "      <th>board_approval_month</th>\n",
       "      <th>boardapprovaldate</th>\n",
       "      <th>borrower</th>\n",
       "      <th>closingdate</th>\n",
       "      <th>country_namecode</th>\n",
       "      <th>countrycode</th>\n",
       "      <th>countryname</th>\n",
       "      <th>countryshortname</th>\n",
       "      <th>...</th>\n",
       "      <th>sectorcode</th>\n",
       "      <th>source</th>\n",
       "      <th>status</th>\n",
       "      <th>supplementprojectflg</th>\n",
       "      <th>theme1</th>\n",
       "      <th>theme_namecode</th>\n",
       "      <th>themecode</th>\n",
       "      <th>totalamt</th>\n",
       "      <th>totalcommamt</th>\n",
       "      <th>url</th>\n",
       "    </tr>\n",
       "  </thead>\n",
       "  <tbody>\n",
       "    <tr>\n",
       "      <th>131</th>\n",
       "      <td>{u'$oid': u'52b213b38594d8a2be17c803'}</td>\n",
       "      <td>2013</td>\n",
       "      <td>June</td>\n",
       "      <td>2013-06-18T00:00:00Z</td>\n",
       "      <td>CAWTAR</td>\n",
       "      <td>2014-12-31T00:00:00Z</td>\n",
       "      <td>Middle East and North Africa!$!5M</td>\n",
       "      <td>5M</td>\n",
       "      <td>Middle East and North Africa</td>\n",
       "      <td>Middle East and North Africa</td>\n",
       "      <td>...</td>\n",
       "      <td>FI</td>\n",
       "      <td>IBRD</td>\n",
       "      <td>Active</td>\n",
       "      <td>N</td>\n",
       "      <td>{u'Percent': 40, u'Name': u'Micro, Small and M...</td>\n",
       "      <td>[{u'code': u'41', u'name': u'Micro, Small and ...</td>\n",
       "      <td>41</td>\n",
       "      <td>0</td>\n",
       "      <td>600000</td>\n",
       "      <td>http://www.worldbank.org/projects/P144655/mnxt...</td>\n",
       "    </tr>\n",
       "    <tr>\n",
       "      <th>179</th>\n",
       "      <td>{u'$oid': u'52b213b38594d8a2be17c833'}</td>\n",
       "      <td>2013</td>\n",
       "      <td>May</td>\n",
       "      <td>2013-05-23T00:00:00Z</td>\n",
       "      <td>NaN</td>\n",
       "      <td>2017-12-31T00:00:00Z</td>\n",
       "      <td>Middle East and North Africa!$!5M</td>\n",
       "      <td>5M</td>\n",
       "      <td>Middle East and North Africa</td>\n",
       "      <td>Middle East and North Africa</td>\n",
       "      <td>...</td>\n",
       "      <td>LR,YW,WZ,AZ</td>\n",
       "      <td>IBRD</td>\n",
       "      <td>Active</td>\n",
       "      <td>N</td>\n",
       "      <td>{u'Percent': 20, u'Name': u'Biodiversity'}</td>\n",
       "      <td>[{u'code': u'80', u'name': u'Biodiversity'}, {...</td>\n",
       "      <td>85,79,86,81,80</td>\n",
       "      <td>0</td>\n",
       "      <td>1000000</td>\n",
       "      <td>http://www.worldbank.org/projects/P130343/mena...</td>\n",
       "    </tr>\n",
       "    <tr>\n",
       "      <th>322</th>\n",
       "      <td>{u'$oid': u'52b213b38594d8a2be17c8c2'}</td>\n",
       "      <td>2013</td>\n",
       "      <td>February</td>\n",
       "      <td>2013-02-08T00:00:00Z</td>\n",
       "      <td>PALESTINIAN AUTHORITY</td>\n",
       "      <td>NaN</td>\n",
       "      <td>Middle East and North Africa!$!5M</td>\n",
       "      <td>5M</td>\n",
       "      <td>Middle East and North Africa</td>\n",
       "      <td>Middle East and North Africa</td>\n",
       "      <td>...</td>\n",
       "      <td>BH,WB</td>\n",
       "      <td>IBRD</td>\n",
       "      <td>Active</td>\n",
       "      <td>Y</td>\n",
       "      <td>{u'Percent': 25, u'Name': u'Pollution manageme...</td>\n",
       "      <td>[{u'code': u'84', u'name': u'Pollution managem...</td>\n",
       "      <td>71,39,84</td>\n",
       "      <td>0</td>\n",
       "      <td>8000000</td>\n",
       "      <td>http://www.worldbank.org/projects/P132268/soli...</td>\n",
       "    </tr>\n",
       "    <tr>\n",
       "      <th>486</th>\n",
       "      <td>{u'$oid': u'52b213b38594d8a2be17c966'}</td>\n",
       "      <td>2013</td>\n",
       "      <td>September</td>\n",
       "      <td>2012-09-01T00:00:00Z</td>\n",
       "      <td>GOVERNMENT OF LEBANON &amp; JORDAN</td>\n",
       "      <td>2015-01-31T00:00:00Z</td>\n",
       "      <td>Middle East and North Africa!$!5M</td>\n",
       "      <td>5M</td>\n",
       "      <td>Middle East and North Africa</td>\n",
       "      <td>Middle East and North Africa</td>\n",
       "      <td>...</td>\n",
       "      <td>BZ,BS,BQ,BN</td>\n",
       "      <td>IBRD</td>\n",
       "      <td>Active</td>\n",
       "      <td>N</td>\n",
       "      <td>{u'Percent': 25, u'Name': u'Other public secto...</td>\n",
       "      <td>[{u'code': u'30', u'name': u'Other public sect...</td>\n",
       "      <td>54,55,56,30</td>\n",
       "      <td>0</td>\n",
       "      <td>2400000</td>\n",
       "      <td>http://www.worldbank.org/projects/P132097/5m-d...</td>\n",
       "    </tr>\n",
       "  </tbody>\n",
       "</table>\n",
       "<p>4 rows × 50 columns</p>\n",
       "</div>"
      ],
      "text/plain": [
       "                                        _id  approvalfy board_approval_month  \\\n",
       "131  {u'$oid': u'52b213b38594d8a2be17c803'}        2013                 June   \n",
       "179  {u'$oid': u'52b213b38594d8a2be17c833'}        2013                  May   \n",
       "322  {u'$oid': u'52b213b38594d8a2be17c8c2'}        2013             February   \n",
       "486  {u'$oid': u'52b213b38594d8a2be17c966'}        2013            September   \n",
       "\n",
       "        boardapprovaldate                        borrower  \\\n",
       "131  2013-06-18T00:00:00Z                          CAWTAR   \n",
       "179  2013-05-23T00:00:00Z                             NaN   \n",
       "322  2013-02-08T00:00:00Z           PALESTINIAN AUTHORITY   \n",
       "486  2012-09-01T00:00:00Z  GOVERNMENT OF LEBANON & JORDAN   \n",
       "\n",
       "              closingdate                   country_namecode countrycode  \\\n",
       "131  2014-12-31T00:00:00Z  Middle East and North Africa!$!5M          5M   \n",
       "179  2017-12-31T00:00:00Z  Middle East and North Africa!$!5M          5M   \n",
       "322                   NaN  Middle East and North Africa!$!5M          5M   \n",
       "486  2015-01-31T00:00:00Z  Middle East and North Africa!$!5M          5M   \n",
       "\n",
       "                      countryname              countryshortname  \\\n",
       "131  Middle East and North Africa  Middle East and North Africa   \n",
       "179  Middle East and North Africa  Middle East and North Africa   \n",
       "322  Middle East and North Africa  Middle East and North Africa   \n",
       "486  Middle East and North Africa  Middle East and North Africa   \n",
       "\n",
       "                           ...                           sectorcode source  \\\n",
       "131                        ...                                   FI   IBRD   \n",
       "179                        ...                          LR,YW,WZ,AZ   IBRD   \n",
       "322                        ...                                BH,WB   IBRD   \n",
       "486                        ...                          BZ,BS,BQ,BN   IBRD   \n",
       "\n",
       "     status  supplementprojectflg  \\\n",
       "131  Active                     N   \n",
       "179  Active                     N   \n",
       "322  Active                     Y   \n",
       "486  Active                     N   \n",
       "\n",
       "                                                theme1  \\\n",
       "131  {u'Percent': 40, u'Name': u'Micro, Small and M...   \n",
       "179         {u'Percent': 20, u'Name': u'Biodiversity'}   \n",
       "322  {u'Percent': 25, u'Name': u'Pollution manageme...   \n",
       "486  {u'Percent': 25, u'Name': u'Other public secto...   \n",
       "\n",
       "                                        theme_namecode       themecode  \\\n",
       "131  [{u'code': u'41', u'name': u'Micro, Small and ...              41   \n",
       "179  [{u'code': u'80', u'name': u'Biodiversity'}, {...  85,79,86,81,80   \n",
       "322  [{u'code': u'84', u'name': u'Pollution managem...        71,39,84   \n",
       "486  [{u'code': u'30', u'name': u'Other public sect...     54,55,56,30   \n",
       "\n",
       "    totalamt totalcommamt                                                url  \n",
       "131        0       600000  http://www.worldbank.org/projects/P144655/mnxt...  \n",
       "179        0      1000000  http://www.worldbank.org/projects/P130343/mena...  \n",
       "322        0      8000000  http://www.worldbank.org/projects/P132268/soli...  \n",
       "486        0      2400000  http://www.worldbank.org/projects/P132097/5m-d...  \n",
       "\n",
       "[4 rows x 50 columns]"
      ]
     },
     "execution_count": 53,
     "metadata": {},
     "output_type": "execute_result"
    }
   ],
   "source": [
    "chk=wbpj[wbpj.countrycode=='5M']\n",
    "chk"
   ]
  },
  {
   "cell_type": "code",
   "execution_count": 1,
   "metadata": {
    "collapsed": false
   },
   "outputs": [
    {
     "ename": "NameError",
     "evalue": "name 'wbpj' is not defined",
     "output_type": "error",
     "traceback": [
      "\u001b[1;31m---------------------------------------------------------------------------\u001b[0m",
      "\u001b[1;31mNameError\u001b[0m                                 Traceback (most recent call last)",
      "\u001b[1;32m<ipython-input-1-7126041cfc42>\u001b[0m in \u001b[0;36m<module>\u001b[1;34m()\u001b[0m\n\u001b[1;32m----> 1\u001b[1;33m \u001b[0mcols\u001b[0m\u001b[1;33m=\u001b[0m\u001b[0mwbpj\u001b[0m\u001b[1;33m[\u001b[0m\u001b[1;33m[\u001b[0m\u001b[1;34m'countryname'\u001b[0m\u001b[1;33m,\u001b[0m\u001b[1;34m'mjtheme'\u001b[0m\u001b[1;33m,\u001b[0m\u001b[1;34m'mjthemecode'\u001b[0m\u001b[1;33m,\u001b[0m\u001b[1;34m'project_name'\u001b[0m\u001b[1;33m,\u001b[0m\u001b[1;34m'mjtheme_namecode'\u001b[0m\u001b[1;33m]\u001b[0m\u001b[1;33m]\u001b[0m\u001b[1;33m\u001b[0m\u001b[0m\n\u001b[0m\u001b[0;32m      2\u001b[0m \u001b[0mcols\u001b[0m\u001b[1;33m\u001b[0m\u001b[0m\n",
      "\u001b[1;31mNameError\u001b[0m: name 'wbpj' is not defined"
     ]
    }
   ],
   "source": [
    "cols=wbpj[['countryname','mjtheme','mjthemecode','project_name','mjtheme_namecode']]\n",
    "cols"
   ]
  },
  {
   "cell_type": "raw",
   "metadata": {
    "raw_mimetype": "text/x-python"
   },
   "source": []
  },
  {
   "cell_type": "markdown",
   "metadata": {},
   "source": [
    "df2"
   ]
  },
  {
   "cell_type": "code",
   "execution_count": 63,
   "metadata": {
    "collapsed": false
   },
   "outputs": [
    {
     "ename": "AttributeError",
     "evalue": "'function' object has no attribute 'sort'",
     "output_type": "error",
     "traceback": [
      "\u001b[1;31m---------------------------------------------------------------------------\u001b[0m",
      "\u001b[1;31mAttributeError\u001b[0m                            Traceback (most recent call last)",
      "\u001b[1;32m<ipython-input-63-33576d5362d1>\u001b[0m in \u001b[0;36m<module>\u001b[1;34m()\u001b[0m\n\u001b[1;32m----> 1\u001b[1;33m \u001b[0mgrp1\u001b[0m\u001b[1;33m=\u001b[0m\u001b[0mgrp\u001b[0m\u001b[1;33m.\u001b[0m\u001b[0mcount\u001b[0m\u001b[1;33m.\u001b[0m\u001b[0msort\u001b[0m\u001b[1;33m(\u001b[0m\u001b[1;33m)\u001b[0m\u001b[1;33m\u001b[0m\u001b[0m\n\u001b[0m",
      "\u001b[1;31mAttributeError\u001b[0m: 'function' object has no attribute 'sort'"
     ]
    }
   ],
   "source": [
    "grp1=grp.count.sort()"
   ]
  },
  {
   "cell_type": "code",
   "execution_count": 9,
   "metadata": {
    "collapsed": false
   },
   "outputs": [
    {
     "data": {
      "text/plain": [
       "People's Republic of China         19\n",
       "Republic of Indonesia              19\n",
       "Socialist Republic of Vietnam      17\n",
       "Republic of India                  16\n",
       "Republic of Yemen                  13\n",
       "Kingdom of Morocco                 12\n",
       "People's Republic of Bangladesh    12\n",
       "Nepal                              12\n",
       "Republic of Mozambique             11\n",
       "Africa                             11\n",
       "dtype: int64"
      ]
     },
     "execution_count": 9,
     "metadata": {},
     "output_type": "execute_result"
    }
   ],
   "source": [
    "j=wbpj.countryname.value_counts().head(10)\n",
    "j"
   ]
  },
  {
   "cell_type": "code",
   "execution_count": 24,
   "metadata": {
    "collapsed": false
   },
   "outputs": [
    {
     "data": {
      "text/plain": [
       "[{u'code': u'11', u'name': u'Environment and natural resources management'}, {u'code': u'11', u'name': u'Environment and natural resources management'}]                                                                                            12\n",
       "[{u'code': u'8', u'name': u'Human development'}, {u'code': u'11', u'name': u''}]                                                                                                                                                                    11\n",
       "[{u'code': u'8', u'name': u'Human development'}, {u'code': u'8', u'name': u'Human development'}]                                                                                                                                                     8\n",
       "[{u'code': u'4', u'name': u'Financial and private sector development'}, {u'code': u'4', u'name': u'Financial and private sector development'}]                                                                                                       6\n",
       "[{u'code': u'2', u'name': u'Public sector governance'}, {u'code': u'2', u'name': u'Public sector governance'}, {u'code': u'2', u'name': u'Public sector governance'}]                                                                                6\n",
       "[{u'code': u'8', u'name': u'Human development'}, {u'code': u'7', u'name': u'Social dev/gender/inclusion'}]                                                                                                                                           5\n",
       "[{u'code': u'8', u'name': u'Human development'}, {u'code': u'8', u'name': u'Human development'}, {u'code': u'8', u'name': u'Human development'}, {u'code': u'8', u'name': u'Human development'}, {u'code': u'8', u'name': u'Human development'}]     5\n",
       "[{u'code': u'11', u'name': u'Environment and natural resources management'}, {u'code': u'11', u'name': u''}]                                                                                                                                         5\n",
       "[{u'code': u'11', u'name': u'Environment and natural resources management'}, {u'code': u'4', u'name': u''}]                                                                                                                                          5\n",
       "[{u'code': u'4', u'name': u'Financial and private sector development'}, {u'code': u'5', u'name': u'Trade and integration'}]                                                                                                                          5\n",
       "dtype: int64"
      ]
     },
     "execution_count": 24,
     "metadata": {},
     "output_type": "execute_result"
    }
   ],
   "source": [
    "mj=wbpj.mjtheme_namecode.value_counts().head(10)\n",
    "mj"
   ]
  },
  {
   "cell_type": "code",
   "execution_count": 25,
   "metadata": {
    "collapsed": false
   },
   "outputs": [
    {
     "data": {
      "text/html": [
       "<div>\n",
       "<table border=\"1\" class=\"dataframe\">\n",
       "  <thead>\n",
       "    <tr style=\"text-align: right;\">\n",
       "      <th></th>\n",
       "      <th>0</th>\n",
       "    </tr>\n",
       "  </thead>\n",
       "  <tbody>\n",
       "    <tr>\n",
       "      <th>[{u'code': u'11', u'name': u'Environment and natural resources management'}, {u'code': u'11', u'name': u'Environment and natural resources management'}]</th>\n",
       "      <td>12</td>\n",
       "    </tr>\n",
       "    <tr>\n",
       "      <th>[{u'code': u'8', u'name': u'Human development'}, {u'code': u'11', u'name': u''}]</th>\n",
       "      <td>11</td>\n",
       "    </tr>\n",
       "    <tr>\n",
       "      <th>[{u'code': u'8', u'name': u'Human development'}, {u'code': u'8', u'name': u'Human development'}]</th>\n",
       "      <td>8</td>\n",
       "    </tr>\n",
       "    <tr>\n",
       "      <th>[{u'code': u'4', u'name': u'Financial and private sector development'}, {u'code': u'4', u'name': u'Financial and private sector development'}]</th>\n",
       "      <td>6</td>\n",
       "    </tr>\n",
       "    <tr>\n",
       "      <th>[{u'code': u'2', u'name': u'Public sector governance'}, {u'code': u'2', u'name': u'Public sector governance'}, {u'code': u'2', u'name': u'Public sector governance'}]</th>\n",
       "      <td>6</td>\n",
       "    </tr>\n",
       "    <tr>\n",
       "      <th>[{u'code': u'8', u'name': u'Human development'}, {u'code': u'7', u'name': u'Social dev/gender/inclusion'}]</th>\n",
       "      <td>5</td>\n",
       "    </tr>\n",
       "    <tr>\n",
       "      <th>[{u'code': u'8', u'name': u'Human development'}, {u'code': u'8', u'name': u'Human development'}, {u'code': u'8', u'name': u'Human development'}, {u'code': u'8', u'name': u'Human development'}, {u'code': u'8', u'name': u'Human development'}]</th>\n",
       "      <td>5</td>\n",
       "    </tr>\n",
       "    <tr>\n",
       "      <th>[{u'code': u'11', u'name': u'Environment and natural resources management'}, {u'code': u'11', u'name': u''}]</th>\n",
       "      <td>5</td>\n",
       "    </tr>\n",
       "    <tr>\n",
       "      <th>[{u'code': u'11', u'name': u'Environment and natural resources management'}, {u'code': u'4', u'name': u''}]</th>\n",
       "      <td>5</td>\n",
       "    </tr>\n",
       "    <tr>\n",
       "      <th>[{u'code': u'4', u'name': u'Financial and private sector development'}, {u'code': u'5', u'name': u'Trade and integration'}]</th>\n",
       "      <td>5</td>\n",
       "    </tr>\n",
       "  </tbody>\n",
       "</table>\n",
       "</div>"
      ],
      "text/plain": [
       "                                                     0\n",
       "[{u'code': u'11', u'name': u'Environment and na...  12\n",
       "[{u'code': u'8', u'name': u'Human development'}...  11\n",
       "[{u'code': u'8', u'name': u'Human development'}...   8\n",
       "[{u'code': u'4', u'name': u'Financial and priva...   6\n",
       "[{u'code': u'2', u'name': u'Public sector gover...   6\n",
       "[{u'code': u'8', u'name': u'Human development'}...   5\n",
       "[{u'code': u'8', u'name': u'Human development'}...   5\n",
       "[{u'code': u'11', u'name': u'Environment and na...   5\n",
       "[{u'code': u'11', u'name': u'Environment and na...   5\n",
       "[{u'code': u'4', u'name': u'Financial and priva...   5"
      ]
     },
     "execution_count": 25,
     "metadata": {},
     "output_type": "execute_result"
    }
   ],
   "source": [
    "dt=pd.DataFrame(mj)\n",
    "dt"
   ]
  },
  {
   "cell_type": "code",
   "execution_count": 23,
   "metadata": {
    "collapsed": false
   },
   "outputs": [
    {
     "ename": "TypeError",
     "evalue": "string indices must be integers",
     "output_type": "error",
     "traceback": [
      "\u001b[1;31m---------------------------------------------------------------------------\u001b[0m",
      "\u001b[1;31mTypeError\u001b[0m                                 Traceback (most recent call last)",
      "\u001b[1;32m<ipython-input-23-1937f421db73>\u001b[0m in \u001b[0;36m<module>\u001b[1;34m()\u001b[0m\n\u001b[1;32m----> 1\u001b[1;33m \u001b[0mjson_normalize\u001b[0m\u001b[1;33m(\u001b[0m\u001b[0mdt\u001b[0m\u001b[1;33m,\u001b[0m \u001b[1;34m'name'\u001b[0m\u001b[1;33m)\u001b[0m\u001b[1;33m\u001b[0m\u001b[0m\n\u001b[0m",
      "\u001b[1;32mC:\\Users\\Praful\\Anaconda\\lib\\site-packages\\pandas\\io\\json.pyc\u001b[0m in \u001b[0;36mjson_normalize\u001b[1;34m(data, record_path, meta, meta_prefix, record_prefix)\u001b[0m\n\u001b[0;32m    739\u001b[0m                 \u001b[0mrecords\u001b[0m\u001b[1;33m.\u001b[0m\u001b[0mextend\u001b[0m\u001b[1;33m(\u001b[0m\u001b[0mrecs\u001b[0m\u001b[1;33m)\u001b[0m\u001b[1;33m\u001b[0m\u001b[0m\n\u001b[0;32m    740\u001b[0m \u001b[1;33m\u001b[0m\u001b[0m\n\u001b[1;32m--> 741\u001b[1;33m     \u001b[0m_recursive_extract\u001b[0m\u001b[1;33m(\u001b[0m\u001b[0mdata\u001b[0m\u001b[1;33m,\u001b[0m \u001b[0mrecord_path\u001b[0m\u001b[1;33m,\u001b[0m \u001b[1;33m{\u001b[0m\u001b[1;33m}\u001b[0m\u001b[1;33m,\u001b[0m \u001b[0mlevel\u001b[0m\u001b[1;33m=\u001b[0m\u001b[1;36m0\u001b[0m\u001b[1;33m)\u001b[0m\u001b[1;33m\u001b[0m\u001b[0m\n\u001b[0m\u001b[0;32m    742\u001b[0m \u001b[1;33m\u001b[0m\u001b[0m\n\u001b[0;32m    743\u001b[0m     \u001b[0mresult\u001b[0m \u001b[1;33m=\u001b[0m \u001b[0mDataFrame\u001b[0m\u001b[1;33m(\u001b[0m\u001b[0mrecords\u001b[0m\u001b[1;33m)\u001b[0m\u001b[1;33m\u001b[0m\u001b[0m\n",
      "\u001b[1;32mC:\\Users\\Praful\\Anaconda\\lib\\site-packages\\pandas\\io\\json.pyc\u001b[0m in \u001b[0;36m_recursive_extract\u001b[1;34m(data, path, seen_meta, level)\u001b[0m\n\u001b[0;32m    725\u001b[0m         \u001b[1;32melse\u001b[0m\u001b[1;33m:\u001b[0m\u001b[1;33m\u001b[0m\u001b[0m\n\u001b[0;32m    726\u001b[0m             \u001b[1;32mfor\u001b[0m \u001b[0mobj\u001b[0m \u001b[1;32min\u001b[0m \u001b[0mdata\u001b[0m\u001b[1;33m:\u001b[0m\u001b[1;33m\u001b[0m\u001b[0m\n\u001b[1;32m--> 727\u001b[1;33m                 \u001b[0mrecs\u001b[0m \u001b[1;33m=\u001b[0m \u001b[0m_pull_field\u001b[0m\u001b[1;33m(\u001b[0m\u001b[0mobj\u001b[0m\u001b[1;33m,\u001b[0m \u001b[0mpath\u001b[0m\u001b[1;33m[\u001b[0m\u001b[1;36m0\u001b[0m\u001b[1;33m]\u001b[0m\u001b[1;33m)\u001b[0m\u001b[1;33m\u001b[0m\u001b[0m\n\u001b[0m\u001b[0;32m    728\u001b[0m \u001b[1;33m\u001b[0m\u001b[0m\n\u001b[0;32m    729\u001b[0m                 \u001b[1;31m# For repeating the metadata later\u001b[0m\u001b[1;33m\u001b[0m\u001b[1;33m\u001b[0m\u001b[0m\n",
      "\u001b[1;32mC:\\Users\\Praful\\Anaconda\\lib\\site-packages\\pandas\\io\\json.pyc\u001b[0m in \u001b[0;36m_pull_field\u001b[1;34m(js, spec)\u001b[0m\n\u001b[0;32m    676\u001b[0m                 \u001b[0mresult\u001b[0m \u001b[1;33m=\u001b[0m \u001b[0mresult\u001b[0m\u001b[1;33m[\u001b[0m\u001b[0mfield\u001b[0m\u001b[1;33m]\u001b[0m\u001b[1;33m\u001b[0m\u001b[0m\n\u001b[0;32m    677\u001b[0m         \u001b[1;32melse\u001b[0m\u001b[1;33m:\u001b[0m\u001b[1;33m\u001b[0m\u001b[0m\n\u001b[1;32m--> 678\u001b[1;33m             \u001b[0mresult\u001b[0m \u001b[1;33m=\u001b[0m \u001b[0mresult\u001b[0m\u001b[1;33m[\u001b[0m\u001b[0mspec\u001b[0m\u001b[1;33m]\u001b[0m\u001b[1;33m\u001b[0m\u001b[0m\n\u001b[0m\u001b[0;32m    679\u001b[0m \u001b[1;33m\u001b[0m\u001b[0m\n\u001b[0;32m    680\u001b[0m         \u001b[1;32mreturn\u001b[0m \u001b[0mresult\u001b[0m\u001b[1;33m\u001b[0m\u001b[0m\n",
      "\u001b[1;31mTypeError\u001b[0m: string indices must be integers"
     ]
    }
   ],
   "source": [
    "json_normalize(dt, 'name')"
   ]
  },
  {
   "cell_type": "code",
   "execution_count": null,
   "metadata": {
    "collapsed": true
   },
   "outputs": [],
   "source": []
  }
 ],
 "metadata": {
  "celltoolbar": "Raw Cell Format",
  "kernelspec": {
   "display_name": "Python 2",
   "language": "python",
   "name": "python2"
  },
  "language_info": {
   "codemirror_mode": {
    "name": "ipython",
    "version": 2
   },
   "file_extension": ".py",
   "mimetype": "text/x-python",
   "name": "python",
   "nbconvert_exporter": "python",
   "pygments_lexer": "ipython2",
   "version": "2.7.10"
  }
 },
 "nbformat": 4,
 "nbformat_minor": 0
}
